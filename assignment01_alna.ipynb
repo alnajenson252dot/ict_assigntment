{
  "nbformat": 4,
  "nbformat_minor": 0,
  "metadata": {
    "colab": {
      "provenance": [],
      "authorship_tag": "ABX9TyMGxxkJ67ElD1qwtVsA7iDZ",
      "include_colab_link": true
    },
    "kernelspec": {
      "name": "python3",
      "display_name": "Python 3"
    },
    "language_info": {
      "name": "python"
    }
  },
  "cells": [
    {
      "cell_type": "markdown",
      "metadata": {
        "id": "view-in-github",
        "colab_type": "text"
      },
      "source": [
        "<a href=\"https://colab.research.google.com/github/alnajenson252dot/ict_assigntment/blob/main/assignment01_alna.ipynb\" target=\"_parent\"><img src=\"https://colab.research.google.com/assets/colab-badge.svg\" alt=\"Open In Colab\"/></a>"
      ]
    },
    {
      "cell_type": "code",
      "source": [
        "ASSIGNMENT_01\n"
      ],
      "metadata": {
        "id": "fGlxhY9mV6wp"
      },
      "execution_count": null,
      "outputs": []
    },
    {
      "cell_type": "code",
      "source": [
        "#1\n",
        "a =int(input(\"Item 1 price :\"))\n",
        "b =int(input(\"Item 1 quantity :\"))\n",
        "c =int(input(\"Item 2 price:\"))\n",
        "d =int(input(\"Item 2 qauntity:\"))\n",
        "t= a*b+c*d\n",
        "print(t)"
      ],
      "metadata": {
        "colab": {
          "base_uri": "https://localhost:8080/"
        },
        "id": "BD6Pa-dTXsd3",
        "outputId": "e6e69f73-a74d-4af2-bf47-b1664b59428e"
      },
      "execution_count": null,
      "outputs": [
        {
          "output_type": "stream",
          "name": "stdout",
          "text": [
            "Item 1 price :45\n",
            "Item 1 quantity :3\n",
            "Item 2 price:30\n",
            "Item 2 qauntity:2\n",
            "195\n"
          ]
        }
      ]
    },
    {
      "cell_type": "code",
      "source": [
        "#2\n",
        " a=int(input(\"enter temperature in celsius:\"))\n",
        " f=c*9/5+32\n",
        " print(\"temperature in fahreit:\",f)"
      ],
      "metadata": {
        "colab": {
          "base_uri": "https://localhost:8080/"
        },
        "id": "A7H2G_3NZMC_",
        "outputId": "aca7542f-7486-491e-e777-c196bffde6e3"
      },
      "execution_count": null,
      "outputs": [
        {
          "output_type": "stream",
          "name": "stdout",
          "text": [
            "enter temperature in celsius:30\n",
            "temperature in fahreit: 86.0\n"
          ]
        }
      ]
    },
    {
      "cell_type": "code",
      "source": [
        "#3\n",
        "a=int(input(\"enter basic salary:\"))\n",
        "b=int(input(\"enter HRA:\"))\n",
        "c=int(input(\"enter DA:\"))\n",
        "print(\"net salary:\",a+(a*b/100)+(a*c/100)\")"
      ],
      "metadata": {
        "id": "rBGiN19GhEo7"
      },
      "execution_count": null,
      "outputs": []
    },
    {
      "cell_type": "code",
      "source": [
        "#5\n",
        "tot_min = int(input('enter tot min:'))\n",
        "hours = tot_min // 60\n",
        "min = tot_min % 60\n",
        "print(hours,':',min)"
      ],
      "metadata": {
        "colab": {
          "base_uri": "https://localhost:8080/"
        },
        "id": "IOGtKM8e3pHQ",
        "outputId": "fda66901-b3cf-42f2-ca32-c9b0531edefb"
      },
      "execution_count": null,
      "outputs": [
        {
          "output_type": "stream",
          "name": "stdout",
          "text": [
            "enter tot min:130\n",
            "2 : 10\n"
          ]
        }
      ]
    },
    {
      "cell_type": "code",
      "source": [
        "#6\n",
        "weight_kg = float(input(\"enter weight in kg:\"))\n",
        "height_m = float(input(\"enter height in m:\"))\n",
        "bmi = weight_kg / (height_m ** 2)\n",
        "print(\"bmi:\",bmi)\n"
      ],
      "metadata": {
        "colab": {
          "base_uri": "https://localhost:8080/"
        },
        "id": "AQc5tu177mBV",
        "outputId": "6f83061b-8642-4b72-9ade-091074ad9281"
      },
      "execution_count": null,
      "outputs": [
        {
          "output_type": "stream",
          "name": "stdout",
          "text": [
            "enter weight in kg:60\n",
            "enter height in m:1.65\n",
            "bmi: 22.03856749311295\n"
          ]
        }
      ]
    },
    {
      "cell_type": "code",
      "source": [
        "#7\n",
        "original_price =float(input('enter the original price:'))\n",
        "discounted_amount = original_price-(original_price * 0.10)\n",
        "print(\"discounted price:\",discounted_amount)"
      ],
      "metadata": {
        "colab": {
          "base_uri": "https://localhost:8080/"
        },
        "id": "e3UhYrt04ulg",
        "outputId": "ef100b02-dd35-465f-81df-2334c4025274"
      },
      "execution_count": null,
      "outputs": [
        {
          "output_type": "stream",
          "name": "stdout",
          "text": [
            "enter the original price:1200\n",
            "discounted price: 1080.0\n"
          ]
        }
      ]
    },
    {
      "cell_type": "code",
      "source": [
        "import math"
      ],
      "metadata": {
        "id": "K1Tuf-lzE5W6"
      },
      "execution_count": null,
      "outputs": []
    },
    {
      "cell_type": "code",
      "source": [
        "#8\n",
        "a =float(input(\"enter the length of side a:\"))\n",
        "b =float(input(\"enter the length of side b:\"))\n",
        "c =float(input(\"enter the length of side c:\"))\n",
        "s =(a+b+c)/2\n",
        "area =(s*(s-a)*(s-b)*(s-c))**(0.5)\n",
        "print(\"area of the traingle: {area:.2f}\")"
      ],
      "metadata": {
        "id": "nbv2q7woCPxy"
      },
      "execution_count": null,
      "outputs": []
    },
    {
      "cell_type": "code",
      "source": [
        "# 9\n",
        "l=int(input(\"enter the wall length (m): \"))\n",
        "h=int(input(\"enter the wall height(m): \"))\n",
        "a1=l*h\n",
        "a = a1-(2*(1.5*1.2))\n",
        "print(\"Total area to be painted= \",a)\n",
        "c = a*25\n",
        "print(\"Total painting cost=\",c)"
      ],
      "metadata": {
        "colab": {
          "base_uri": "https://localhost:8080/"
        },
        "id": "0DktO6UwDssp",
        "outputId": "e76798a2-f9ee-4bdc-999a-9c0c15823a80"
      },
      "execution_count": null,
      "outputs": [
        {
          "output_type": "stream",
          "name": "stdout",
          "text": [
            "enter the wall length (m): 12\n",
            "enter the wall height(m): 8\n",
            "Total area to be painted=  92.4\n",
            "Total painting cost= 2310.0\n"
          ]
        }
      ]
    },
    {
      "cell_type": "code",
      "source": [
        "#10\n",
        "uc = int(input(\"Enter number of units consumed: \"))\n",
        "eb =float((uc*5.2)+100)\n",
        "print('Electricity Bill=',eb)"
      ],
      "metadata": {
        "colab": {
          "base_uri": "https://localhost:8080/"
        },
        "id": "eJRaB1MSOClz",
        "outputId": "cb32d3a7-65ce-4695-da7e-e9c12478f7ab"
      },
      "execution_count": null,
      "outputs": [
        {
          "output_type": "stream",
          "name": "stdout",
          "text": [
            "Enter number of units consumed: 250\n",
            "Electricity Bill= 1400.0\n"
          ]
        }
      ]
    },
    {
      "cell_type": "code",
      "source": [
        "# 4\n",
        "a=int(input(\"enter the principle amount:\"))\n",
        "b=int(input(\"enter rate of interest:\"))\n",
        "c=int(input(\"time in year\"))\n",
        "print(\"simple interest:\",(a*b*c)/100)"
      ],
      "metadata": {
        "id": "kuAEdKG7ReHx"
      },
      "execution_count": null,
      "outputs": []
    },
    {
      "cell_type": "code",
      "source": [],
      "metadata": {
        "id": "oaxzcndnULww"
      },
      "execution_count": null,
      "outputs": []
    }
  ]
}