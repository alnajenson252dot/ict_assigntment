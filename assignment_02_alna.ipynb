{
  "nbformat": 4,
  "nbformat_minor": 0,
  "metadata": {
    "colab": {
      "provenance": [],
      "authorship_tag": "ABX9TyORFldATEnPLsYEumvcWdN/",
      "include_colab_link": true
    },
    "kernelspec": {
      "name": "python3",
      "display_name": "Python 3"
    },
    "language_info": {
      "name": "python"
    }
  },
  "cells": [
    {
      "cell_type": "markdown",
      "metadata": {
        "id": "view-in-github",
        "colab_type": "text"
      },
      "source": [
        "<a href=\"https://colab.research.google.com/github/alnajenson252dot/ict_assigntment/blob/main/assignment_02_alna.ipynb\" target=\"_parent\"><img src=\"https://colab.research.google.com/assets/colab-badge.svg\" alt=\"Open In Colab\"/></a>"
      ]
    },
    {
      "cell_type": "markdown",
      "source": [
        "QUESTION NUMBER 1"
      ],
      "metadata": {
        "id": "SHfH_ilqAmg7"
      }
    },
    {
      "cell_type": "code",
      "execution_count": null,
      "metadata": {
        "colab": {
          "base_uri": "https://localhost:8080/"
        },
        "id": "GXeeUEQ9ASVT",
        "outputId": "b14ffdda-5fc5-47fb-9be5-c7f16f4e83a7"
      },
      "outputs": [
        {
          "output_type": "stream",
          "name": "stdout",
          "text": [
            "1\n",
            "2\n",
            "Fizz\n",
            "4\n",
            "Buzz\n",
            "Fizz\n",
            "7\n",
            "8\n",
            "Fizz\n",
            "Buzz\n",
            "11\n",
            "Fizz\n",
            "13\n",
            "14\n",
            "FizzBuzz\n",
            "16\n",
            "17\n",
            "Fizz\n",
            "19\n",
            "Buzz\n",
            "Fizz\n",
            "22\n",
            "23\n",
            "Fizz\n",
            "Buzz\n",
            "26\n",
            "Fizz\n",
            "28\n",
            "29\n",
            "FizzBuzz\n",
            "31\n",
            "32\n",
            "Fizz\n",
            "34\n",
            "Buzz\n",
            "Fizz\n",
            "37\n",
            "38\n",
            "Fizz\n",
            "Buzz\n",
            "41\n",
            "Fizz\n",
            "43\n",
            "44\n",
            "FizzBuzz\n",
            "46\n",
            "47\n",
            "Fizz\n",
            "49\n",
            "Buzz\n",
            "Fizz\n",
            "52\n",
            "53\n",
            "Fizz\n",
            "Buzz\n",
            "56\n",
            "Fizz\n",
            "58\n",
            "59\n",
            "FizzBuzz\n",
            "61\n",
            "62\n",
            "Fizz\n",
            "64\n",
            "Buzz\n",
            "Fizz\n",
            "67\n",
            "68\n",
            "Fizz\n",
            "Buzz\n",
            "71\n",
            "Fizz\n",
            "73\n",
            "74\n",
            "FizzBuzz\n",
            "76\n",
            "77\n",
            "Fizz\n",
            "79\n",
            "Buzz\n",
            "Fizz\n",
            "82\n",
            "83\n",
            "Fizz\n",
            "Buzz\n",
            "86\n",
            "Fizz\n",
            "88\n",
            "89\n",
            "FizzBuzz\n",
            "91\n",
            "92\n",
            "Fizz\n",
            "94\n",
            "Buzz\n",
            "Fizz\n",
            "97\n",
            "98\n",
            "Fizz\n",
            "Buzz\n"
          ]
        }
      ],
      "source": [
        "# 1st ANSWER\n",
        "\n",
        "for num in range(1, 101):\n",
        "    if num % 3 == 0 and num % 5 == 0:\n",
        "        print(\"FizzBuzz\")\n",
        "    elif num % 3 == 0:\n",
        "        print(\"Fizz\")\n",
        "    elif num % 5 == 0:\n",
        "        print(\"Buzz\")\n",
        "    else:\n",
        "        print(num)"
      ]
    },
    {
      "cell_type": "markdown",
      "source": [
        "QUESTION NUMBER 2"
      ],
      "metadata": {
        "id": "05ml92AlCnUh"
      }
    },
    {
      "cell_type": "code",
      "source": [
        "#2nd ANSWER\n",
        "\n",
        "units = int(input(\"Enter units consumed: \"))\n",
        "bill = 0\n",
        "if units <= 100:\n",
        "    bill = units * 5\n",
        "elif units <= 200:\n",
        "    bill = (100 * 5) + ((units - 100) * 7)\n",
        "else:\n",
        "    bill = (100 * 5) + (100 * 7) + ((units - 200) * 10)\n",
        "print(f\"Tot Bill Amount: ₹{bill}\")"
      ],
      "metadata": {
        "colab": {
          "base_uri": "https://localhost:8080/"
        },
        "id": "KpWI3c56AzWj",
        "outputId": "2d760b31-b246-49ad-cbe7-a7eee568adfb"
      },
      "execution_count": null,
      "outputs": [
        {
          "output_type": "stream",
          "name": "stdout",
          "text": [
            "Enter units consumed: 245\n",
            "Tot Bill Amount: ₹1650\n"
          ]
        }
      ]
    },
    {
      "cell_type": "markdown",
      "source": [
        "QUESTION NUMBER 3"
      ],
      "metadata": {
        "id": "uPQrUpFRCsy5"
      }
    },
    {
      "cell_type": "code",
      "source": [
        "#3rd answer\n",
        "\n",
        "for i in range(1,6):\n",
        "  print(\"*\"*i)"
      ],
      "metadata": {
        "colab": {
          "base_uri": "https://localhost:8080/"
        },
        "id": "PSCNTP95Cro6",
        "outputId": "1ba0d92b-d58a-43f7-a157-a64c6f48a483"
      },
      "execution_count": null,
      "outputs": [
        {
          "output_type": "stream",
          "name": "stdout",
          "text": [
            "*\n",
            "**\n",
            "***\n",
            "****\n",
            "*****\n"
          ]
        }
      ]
    },
    {
      "cell_type": "markdown",
      "source": [
        "QUESTION NUMBER 4"
      ],
      "metadata": {
        "id": "SuVzDTFVEMch"
      }
    },
    {
      "cell_type": "code",
      "source": [
        "# 4th answer\n",
        "\n",
        "input_str = input(\"Enter a number: \")\n",
        "input_str = str(input_str)\n",
        "reversed_str = input_str[::-1]\n",
        "if input_str == reversed_str:\n",
        "  print(\"Given num/string is Palindrome\")\n",
        "else:\n",
        "  print(\"Given num/string is not Palindrome\")"
      ],
      "metadata": {
        "colab": {
          "base_uri": "https://localhost:8080/"
        },
        "id": "16OeXO1XDPuh",
        "outputId": "a34195c2-2c86-448a-c69f-8b29a674bf9f"
      },
      "execution_count": null,
      "outputs": [
        {
          "output_type": "stream",
          "name": "stdout",
          "text": [
            "Enter a number: 121\n",
            "Given num/string is Palindrome\n"
          ]
        }
      ]
    },
    {
      "cell_type": "code",
      "source": [],
      "metadata": {
        "id": "MOcIAwzjDx2Z"
      },
      "execution_count": null,
      "outputs": []
    }
  ]
}